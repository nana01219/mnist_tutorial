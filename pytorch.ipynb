{
 "cells": [
  {
   "cell_type": "markdown",
   "metadata": {},
   "source": [
    "# Pytorch Tutorial"
   ]
  },
  {
   "cell_type": "markdown",
   "metadata": {},
   "source": [
    "Pytorch is a popular deep learning framework and it's easy to get started."
   ]
  },
  {
   "cell_type": "code",
   "execution_count": 1,
   "metadata": {},
   "outputs": [],
   "source": [
    "import torch\n",
    "import torch.nn as nn\n",
    "import torch.utils.data as data\n",
    "import torchvision\n",
    "import torchvision.transforms as transforms\n",
    "from tqdm import tqdm\n",
    "import time\n",
    "\n",
    "BATCH_SIZE = 128\n",
    "NUM_EPOCHS = 10"
   ]
  },
  {
   "cell_type": "markdown",
   "metadata": {},
   "source": [
    "First, we read the mnist data, preprocess them and encapsulate them into dataloader form."
   ]
  },
  {
   "cell_type": "code",
   "execution_count": 2,
   "metadata": {},
   "outputs": [],
   "source": [
    "# preprocessing\n",
    "normalize = transforms.Normalize(mean=[.5], std=[.5])\n",
    "transform = transforms.Compose([transforms.ToTensor(), normalize])\n",
    "\n",
    "# download and load the data\n",
    "train_dataset = torchvision.datasets.MNIST(root='./mnist/', train=True, transform=transform, download=True)\n",
    "test_dataset = torchvision.datasets.MNIST(root='./mnist/', train=False, transform=transform, download=False)\n",
    "\n",
    "# encapsulate them into dataloader form\n",
    "train_loader = data.DataLoader(train_dataset, batch_size=BATCH_SIZE, shuffle=True, drop_last=True)\n",
    "test_loader = data.DataLoader(test_dataset, batch_size=BATCH_SIZE, shuffle=False, drop_last=True)"
   ]
  },
  {
   "cell_type": "markdown",
   "metadata": {},
   "source": [
    "Then, we define the model, object function and optimizer that we use to classify."
   ]
  },
  {
   "cell_type": "code",
   "execution_count": 3,
   "metadata": {},
   "outputs": [],
   "source": [
    "import torch.nn.functional as F\n",
    "class SimpleNet(nn.Module):\n",
    "# TODO:define model\n",
    "    def __init__(self):\n",
    "        super(SimpleNet, self).__init__()  #nn.Module.__init__\n",
    "        self.conv1 = nn.Conv2d(1, 10, 5) #1*28*28->10*24*24\n",
    "        self.pool = nn.MaxPool2d(2,2)\n",
    "        #pool ->10*12*12\n",
    "        self.conv2 = nn.Conv2d(10, 20, 5) #20*8*8\n",
    "        #pool ->20*4*4\n",
    "        self.fc1 = nn.Linear(20*4*4,120)\n",
    "        self.fc2 = nn.Linear(120, 84)\n",
    "        self.fc3 = nn.Linear(84, 10)\n",
    "    def forward(self,x):\n",
    "        x = self.pool(F.relu(self.conv1(x))) #卷积，激励，池化\n",
    "        x = self.pool(F.relu(self.conv2(x)))\n",
    "        x = x.view(-1, 20*4*4)\n",
    "        x = F.relu(self.fc1(x))\n",
    "        x = F.relu(self.fc2(x))\n",
    "        x = self.fc3(x)\n",
    "        return F.log_softmax(x, dim=1) #important\n",
    "   \n",
    "model = SimpleNet()\n",
    "\n",
    "# TODO:define loss function and optimiter\n",
    "criterion = torch.nn.NLLLoss()\n",
    "optimizer = torch.optim.Adam(model.parameters()) #优化方法\n"
   ]
  },
  {
   "cell_type": "markdown",
   "metadata": {},
   "source": [
    "Next, we can start to train and evaluate!"
   ]
  },
  {
   "cell_type": "code",
   "execution_count": 4,
   "metadata": {
    "scrolled": true
   },
   "outputs": [
    {
     "name": "stderr",
     "output_type": "stream",
     "text": [
      "100%|██████████| 468/468 [00:15<00:00, 30.15it/s]\n",
      "100%|██████████| 468/468 [00:15<00:00, 29.43it/s]\n",
      "100%|██████████| 468/468 [00:16<00:00, 28.56it/s]\n",
      "100%|██████████| 468/468 [00:16<00:00, 28.65it/s]\n",
      "100%|██████████| 468/468 [00:16<00:00, 28.33it/s]\n",
      "100%|██████████| 468/468 [00:16<00:00, 28.43it/s]\n",
      "100%|██████████| 468/468 [00:16<00:00, 27.84it/s]\n",
      "100%|██████████| 468/468 [00:16<00:00, 27.70it/s]\n",
      "100%|██████████| 468/468 [00:17<00:00, 27.00it/s]\n",
      "100%|██████████| 468/468 [00:17<00:00, 27.25it/s]\n"
     ]
    }
   ],
   "source": [
    "# train and evaluate\n",
    "for epoch in range(NUM_EPOCHS):\n",
    "    model.train()\n",
    "    for images, labels in tqdm(train_loader):\n",
    "        # TODO:forward + backward + optimize\n",
    "        optimizer.zero_grad()   # 所有参数的梯度清零\n",
    "        output = model(images)\n",
    "        loss = criterion(output, labels)\n",
    "        loss.backward()         #即反向传播求梯度\n",
    "        optimizer.step()        #调用optimizer进行梯度下降更新参数\n",
    "                \n",
    "        \n",
    "   "
   ]
  },
  {
   "cell_type": "markdown",
   "metadata": {},
   "source": [
    "#### Q5:\n",
    "Please print the training and testing accuracy."
   ]
  },
  {
   "cell_type": "code",
   "execution_count": 13,
   "metadata": {},
   "outputs": [
    {
     "name": "stderr",
     "output_type": "stream",
     "text": [
      "100%|██████████| 468/468 [00:07<00:00, 62.77it/s]\n",
      "  8%|▊         | 6/78 [00:00<00:01, 59.74it/s]"
     ]
    },
    {
     "name": "stdout",
     "output_type": "stream",
     "text": [
      "train_average_loss = 1.72%\n",
      "train_accuracy = 99.25%\n"
     ]
    },
    {
     "name": "stderr",
     "output_type": "stream",
     "text": [
      "100%|██████████| 78/78 [00:01<00:00, 62.32it/s]"
     ]
    },
    {
     "name": "stdout",
     "output_type": "stream",
     "text": [
      "test_average_loss = 3.96%\n",
      "test_accuracy = 98.62%\n"
     ]
    },
    {
     "name": "stderr",
     "output_type": "stream",
     "text": [
      "\n"
     ]
    }
   ],
   "source": [
    " # evaluate\n",
    "    # TODO:calculate the accuracy using traning and testing dataset\n",
    "    \n",
    "def test():\n",
    "    model.eval()\n",
    "    test_loss = 0\n",
    "    correct = 0\n",
    "    for images, labels in tqdm(train_loader):\n",
    "        output = model(images)\n",
    "        \n",
    "        #计算test——loss和结果正确的数 模板\n",
    "        test_loss += F.nll_loss(output, labels, reduction='sum').item()  \n",
    "        pred = output.argmax(dim=1, keepdim=True)  \n",
    "        correct += pred.eq(labels.view_as(pred)).sum().item()\n",
    "\n",
    "    print('train_average_loss = %0.2f%%'% (test_loss/len(train_loader.dataset)*100))\n",
    "    print('train_accuracy = %0.2f%%' % (correct/len(train_loader.dataset)*100))\n",
    "    \n",
    "    model.eval()\n",
    "    test_loss = 0\n",
    "    correct = 0\n",
    "    for images, labels in tqdm(test_loader):\n",
    "        output = model(images)\n",
    "        \n",
    "        test_loss += F.nll_loss(output, labels, reduction='sum').item()  \n",
    "        pred = output.argmax(dim=1, keepdim=True)  \n",
    "        correct += pred.eq(labels.view_as(pred)).sum().item()\n",
    "        \n",
    "    print('test_average_loss = %0.2f%%'% (test_loss/len(test_loader.dataset)*100))\n",
    "    print('test_accuracy = %0.2f%%' % (correct/len(test_loader.dataset)*100))\n",
    "    \n",
    "    \n",
    "test()\n"
   ]
  },
  {
   "cell_type": "code",
   "execution_count": null,
   "metadata": {},
   "outputs": [],
   "source": []
  }
 ],
 "metadata": {
  "kernelspec": {
   "display_name": "Python 3",
   "language": "python",
   "name": "python3"
  },
  "language_info": {
   "codemirror_mode": {
    "name": "ipython",
    "version": 3
   },
   "file_extension": ".py",
   "mimetype": "text/x-python",
   "name": "python",
   "nbconvert_exporter": "python",
   "pygments_lexer": "ipython3",
   "version": "3.6.7"
  }
 },
 "nbformat": 4,
 "nbformat_minor": 2
}
